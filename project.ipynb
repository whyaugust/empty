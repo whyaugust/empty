{
 "cells": [
  {
   "cell_type": "code",
   "execution_count": 57,
   "id": "7f6f33b8",
   "metadata": {},
   "outputs": [],
   "source": [
    "import pandas as pd\n",
    "import numpy as np\n",
    "import matplotlib.pyplot as mpl\n",
    "import seaborn as sns"
   ]
  },
  {
   "cell_type": "code",
   "execution_count": 58,
   "id": "bb907cfe",
   "metadata": {
    "scrolled": true
   },
   "outputs": [
    {
     "data": {
      "text/html": [
       "<div>\n",
       "<style scoped>\n",
       "    .dataframe tbody tr th:only-of-type {\n",
       "        vertical-align: middle;\n",
       "    }\n",
       "\n",
       "    .dataframe tbody tr th {\n",
       "        vertical-align: top;\n",
       "    }\n",
       "\n",
       "    .dataframe thead th {\n",
       "        text-align: right;\n",
       "    }\n",
       "</style>\n",
       "<table border=\"1\" class=\"dataframe\">\n",
       "  <thead>\n",
       "    <tr style=\"text-align: right;\">\n",
       "      <th></th>\n",
       "      <th>ranking</th>\n",
       "      <th>title</th>\n",
       "      <th>location</th>\n",
       "      <th>number_students</th>\n",
       "      <th>students_staff_ratio</th>\n",
       "      <th>percent_int_students</th>\n",
       "      <th>female_ratio</th>\n",
       "      <th>male_ratio</th>\n",
       "      <th>overall_score</th>\n",
       "      <th>teaching_score</th>\n",
       "      <th>research_score</th>\n",
       "      <th>citations_score</th>\n",
       "      <th>industry_income_score</th>\n",
       "      <th>intl_outlook_score</th>\n",
       "    </tr>\n",
       "  </thead>\n",
       "  <tbody>\n",
       "    <tr>\n",
       "      <th>0</th>\n",
       "      <td>1.0</td>\n",
       "      <td>University of Oxford</td>\n",
       "      <td>United Kingdom</td>\n",
       "      <td>20774.0</td>\n",
       "      <td>11.1</td>\n",
       "      <td>41.0</td>\n",
       "      <td>46.0</td>\n",
       "      <td>54.0</td>\n",
       "      <td>95.6</td>\n",
       "      <td>91.3</td>\n",
       "      <td>99.6</td>\n",
       "      <td>98.0</td>\n",
       "      <td>68.7</td>\n",
       "      <td>96.4</td>\n",
       "    </tr>\n",
       "    <tr>\n",
       "      <th>1</th>\n",
       "      <td>2.0</td>\n",
       "      <td>Stanford University</td>\n",
       "      <td>United States</td>\n",
       "      <td>16223.0</td>\n",
       "      <td>7.4</td>\n",
       "      <td>23.0</td>\n",
       "      <td>44.0</td>\n",
       "      <td>56.0</td>\n",
       "      <td>94.9</td>\n",
       "      <td>92.2</td>\n",
       "      <td>96.7</td>\n",
       "      <td>99.9</td>\n",
       "      <td>90.1</td>\n",
       "      <td>79.5</td>\n",
       "    </tr>\n",
       "    <tr>\n",
       "      <th>2</th>\n",
       "      <td>3.0</td>\n",
       "      <td>Harvard University</td>\n",
       "      <td>United States</td>\n",
       "      <td>21261.0</td>\n",
       "      <td>9.3</td>\n",
       "      <td>25.0</td>\n",
       "      <td>49.0</td>\n",
       "      <td>51.0</td>\n",
       "      <td>94.8</td>\n",
       "      <td>94.4</td>\n",
       "      <td>98.8</td>\n",
       "      <td>99.4</td>\n",
       "      <td>46.8</td>\n",
       "      <td>77.7</td>\n",
       "    </tr>\n",
       "    <tr>\n",
       "      <th>3</th>\n",
       "      <td>4.0</td>\n",
       "      <td>California Institute of Technology</td>\n",
       "      <td>United States</td>\n",
       "      <td>2238.0</td>\n",
       "      <td>6.3</td>\n",
       "      <td>33.0</td>\n",
       "      <td>36.0</td>\n",
       "      <td>64.0</td>\n",
       "      <td>94.5</td>\n",
       "      <td>92.5</td>\n",
       "      <td>96.9</td>\n",
       "      <td>97.0</td>\n",
       "      <td>92.7</td>\n",
       "      <td>83.6</td>\n",
       "    </tr>\n",
       "    <tr>\n",
       "      <th>4</th>\n",
       "      <td>5.0</td>\n",
       "      <td>Massachusetts Institute of Technology</td>\n",
       "      <td>United States</td>\n",
       "      <td>11276.0</td>\n",
       "      <td>8.4</td>\n",
       "      <td>34.0</td>\n",
       "      <td>39.0</td>\n",
       "      <td>61.0</td>\n",
       "      <td>94.4</td>\n",
       "      <td>90.7</td>\n",
       "      <td>94.4</td>\n",
       "      <td>99.7</td>\n",
       "      <td>90.4</td>\n",
       "      <td>90.0</td>\n",
       "    </tr>\n",
       "    <tr>\n",
       "      <th>...</th>\n",
       "      <td>...</td>\n",
       "      <td>...</td>\n",
       "      <td>...</td>\n",
       "      <td>...</td>\n",
       "      <td>...</td>\n",
       "      <td>...</td>\n",
       "      <td>...</td>\n",
       "      <td>...</td>\n",
       "      <td>...</td>\n",
       "      <td>...</td>\n",
       "      <td>...</td>\n",
       "      <td>...</td>\n",
       "      <td>...</td>\n",
       "      <td>...</td>\n",
       "    </tr>\n",
       "    <tr>\n",
       "      <th>1522</th>\n",
       "      <td>1522.0</td>\n",
       "      <td>Yuan Ze University</td>\n",
       "      <td>Taiwan</td>\n",
       "      <td>8188.0</td>\n",
       "      <td>19.7</td>\n",
       "      <td>7.0</td>\n",
       "      <td>42.0</td>\n",
       "      <td>58.0</td>\n",
       "      <td>10.3–25.0</td>\n",
       "      <td>18.8</td>\n",
       "      <td>14.1</td>\n",
       "      <td>19.7</td>\n",
       "      <td>50.1</td>\n",
       "      <td>30.9</td>\n",
       "    </tr>\n",
       "    <tr>\n",
       "      <th>1523</th>\n",
       "      <td>1523.0</td>\n",
       "      <td>Yuriy Fedkovych Chernivtsi National University</td>\n",
       "      <td>Ukraine</td>\n",
       "      <td>12616.0</td>\n",
       "      <td>10.7</td>\n",
       "      <td>0.0</td>\n",
       "      <td>57.0</td>\n",
       "      <td>43.0</td>\n",
       "      <td>10.3–25.0</td>\n",
       "      <td>17.9</td>\n",
       "      <td>7.7</td>\n",
       "      <td>5.3</td>\n",
       "      <td>33.4</td>\n",
       "      <td>22.2</td>\n",
       "    </tr>\n",
       "    <tr>\n",
       "      <th>1524</th>\n",
       "      <td>1524.0</td>\n",
       "      <td>Zagazig University</td>\n",
       "      <td>Egypt</td>\n",
       "      <td>15627.0</td>\n",
       "      <td>24.4</td>\n",
       "      <td>2.0</td>\n",
       "      <td>54.0</td>\n",
       "      <td>46.0</td>\n",
       "      <td>10.3–25.0</td>\n",
       "      <td>13.7</td>\n",
       "      <td>7.4</td>\n",
       "      <td>42.3</td>\n",
       "      <td>33.4</td>\n",
       "      <td>40.6</td>\n",
       "    </tr>\n",
       "    <tr>\n",
       "      <th>1525</th>\n",
       "      <td>1525.0</td>\n",
       "      <td>University of Zagreb</td>\n",
       "      <td>Croatia</td>\n",
       "      <td>59336.0</td>\n",
       "      <td>15.3</td>\n",
       "      <td>3.0</td>\n",
       "      <td>59.0</td>\n",
       "      <td>41.0</td>\n",
       "      <td>10.3–25.0</td>\n",
       "      <td>19.5</td>\n",
       "      <td>13.2</td>\n",
       "      <td>27.2</td>\n",
       "      <td>40.3</td>\n",
       "      <td>34.3</td>\n",
       "    </tr>\n",
       "    <tr>\n",
       "      <th>1526</th>\n",
       "      <td>1526.0</td>\n",
       "      <td>University of Žilina</td>\n",
       "      <td>Slovakia</td>\n",
       "      <td>7136.0</td>\n",
       "      <td>11.7</td>\n",
       "      <td>2.0</td>\n",
       "      <td>34.0</td>\n",
       "      <td>66.0</td>\n",
       "      <td>10.3–25.0</td>\n",
       "      <td>20.3</td>\n",
       "      <td>13.2</td>\n",
       "      <td>26.4</td>\n",
       "      <td>42.9</td>\n",
       "      <td>31.8</td>\n",
       "    </tr>\n",
       "  </tbody>\n",
       "</table>\n",
       "<p>1527 rows × 14 columns</p>\n",
       "</div>"
      ],
      "text/plain": [
       "      ranking                                           title        location  \\\n",
       "0         1.0                            University of Oxford  United Kingdom   \n",
       "1         2.0                             Stanford University   United States   \n",
       "2         3.0                              Harvard University   United States   \n",
       "3         4.0              California Institute of Technology   United States   \n",
       "4         5.0           Massachusetts Institute of Technology   United States   \n",
       "...       ...                                             ...             ...   \n",
       "1522   1522.0                              Yuan Ze University          Taiwan   \n",
       "1523   1523.0  Yuriy Fedkovych Chernivtsi National University         Ukraine   \n",
       "1524   1524.0                              Zagazig University           Egypt   \n",
       "1525   1525.0                            University of Zagreb         Croatia   \n",
       "1526   1526.0                            University of Žilina        Slovakia   \n",
       "\n",
       "      number_students  students_staff_ratio  percent_int_students  \\\n",
       "0             20774.0                  11.1                  41.0   \n",
       "1             16223.0                   7.4                  23.0   \n",
       "2             21261.0                   9.3                  25.0   \n",
       "3              2238.0                   6.3                  33.0   \n",
       "4             11276.0                   8.4                  34.0   \n",
       "...               ...                   ...                   ...   \n",
       "1522           8188.0                  19.7                   7.0   \n",
       "1523          12616.0                  10.7                   0.0   \n",
       "1524          15627.0                  24.4                   2.0   \n",
       "1525          59336.0                  15.3                   3.0   \n",
       "1526           7136.0                  11.7                   2.0   \n",
       "\n",
       "      female_ratio  male_ratio overall_score  teaching_score  research_score  \\\n",
       "0             46.0        54.0          95.6            91.3            99.6   \n",
       "1             44.0        56.0          94.9            92.2            96.7   \n",
       "2             49.0        51.0          94.8            94.4            98.8   \n",
       "3             36.0        64.0          94.5            92.5            96.9   \n",
       "4             39.0        61.0          94.4            90.7            94.4   \n",
       "...            ...         ...           ...             ...             ...   \n",
       "1522          42.0        58.0     10.3–25.0            18.8            14.1   \n",
       "1523          57.0        43.0     10.3–25.0            17.9             7.7   \n",
       "1524          54.0        46.0     10.3–25.0            13.7             7.4   \n",
       "1525          59.0        41.0     10.3–25.0            19.5            13.2   \n",
       "1526          34.0        66.0     10.3–25.0            20.3            13.2   \n",
       "\n",
       "      citations_score  industry_income_score  intl_outlook_score  \n",
       "0                98.0                   68.7                96.4  \n",
       "1                99.9                   90.1                79.5  \n",
       "2                99.4                   46.8                77.7  \n",
       "3                97.0                   92.7                83.6  \n",
       "4                99.7                   90.4                90.0  \n",
       "...               ...                    ...                 ...  \n",
       "1522             19.7                   50.1                30.9  \n",
       "1523              5.3                   33.4                22.2  \n",
       "1524             42.3                   33.4                40.6  \n",
       "1525             27.2                   40.3                34.3  \n",
       "1526             26.4                   42.9                31.8  \n",
       "\n",
       "[1527 rows x 14 columns]"
      ]
     },
     "execution_count": 58,
     "metadata": {},
     "output_type": "execute_result"
    }
   ],
   "source": [
    "df=pd.read_csv('uni.csv')\n",
    "df"
   ]
  },
  {
   "cell_type": "code",
   "execution_count": 67,
   "id": "ffd702a6",
   "metadata": {
    "scrolled": true
   },
   "outputs": [
    {
     "data": {
      "text/plain": [
       "United States         181\n",
       "Japan                 116\n",
       "United Kingdom        101\n",
       "China                  91\n",
       "India                  63\n",
       "Brazil                 52\n",
       "Spain                  50\n",
       "Italy                  49\n",
       "Germany                48\n",
       "Russian Federation     48\n",
       "Iran                   47\n",
       "Turkey                 43\n",
       "France                 41\n",
       "Taiwan                 38\n",
       "Australia              37\n",
       "South Korea            35\n",
       "Canada                 30\n",
       "Egypt                  21\n",
       "Chile                  21\n",
       "Poland                 19\n",
       "Name: location, dtype: int64"
      ]
     },
     "execution_count": 67,
     "metadata": {},
     "output_type": "execute_result"
    }
   ],
   "source": [
    "df['location'].value_counts().head(20)"
   ]
  },
  {
   "cell_type": "code",
   "execution_count": 72,
   "id": "ddb3e830",
   "metadata": {},
   "outputs": [
    {
     "data": {
      "text/plain": [
       "location\n",
       "Singapore             36.0\n",
       "Netherlands           80.0\n",
       "Hong Kong             91.5\n",
       "Switzerland          150.0\n",
       "Belgium              197.5\n",
       "Denmark              203.0\n",
       "Sweden               216.0\n",
       "Luxembourg           226.0\n",
       "Germany              242.5\n",
       "Australia            259.0\n",
       "Macao                296.0\n",
       "Qatar                328.0\n",
       "United States        337.0\n",
       "Ireland              348.0\n",
       "Brunei Darussalam    355.0\n",
       "Austria              371.0\n",
       "Finland              375.0\n",
       "Iceland              385.0\n",
       "Canada               388.5\n",
       "Norway               395.0\n",
       "Name: ranking, dtype: float64"
      ]
     },
     "execution_count": 72,
     "metadata": {},
     "output_type": "execute_result"
    }
   ],
   "source": [
    "df.groupby('location')['ranking'].median().sort_values().head(20)"
   ]
  },
  {
   "cell_type": "code",
   "execution_count": 71,
   "id": "9f0b9e14",
   "metadata": {},
   "outputs": [
    {
     "data": {
      "text/plain": [
       "location\n",
       "United States         3596648.0\n",
       "China                 2616000.0\n",
       "Egypt                 1781759.0\n",
       "United Kingdom        1560312.0\n",
       "Brazil                1329378.0\n",
       "Japan                 1107230.0\n",
       "France                1030756.0\n",
       "Turkey                1009963.0\n",
       "Germany                996162.0\n",
       "Italy                  979731.0\n",
       "Spain                  970964.0\n",
       "Mexico                 957963.0\n",
       "Australia              789023.0\n",
       "Canada                 698271.0\n",
       "India                  595334.0\n",
       "Russian Federation     582491.0\n",
       "South Korea            510557.0\n",
       "Thailand               510548.0\n",
       "South Africa           476583.0\n",
       "Iran                   460889.0\n",
       "Name: number_students, dtype: float64"
      ]
     },
     "execution_count": 71,
     "metadata": {},
     "output_type": "execute_result"
    }
   ],
   "source": [
    "students=df.groupby('location')['number_students'].sum().sort_values(ascending=False).head(20)\n",
    "students"
   ]
  },
  {
   "cell_type": "code",
   "execution_count": 59,
   "id": "142e8d99",
   "metadata": {
    "scrolled": true
   },
   "outputs": [
    {
     "data": {
      "text/plain": [
       "<Axes: xlabel='ranking', ylabel='female_ratio'>"
      ]
     },
     "execution_count": 59,
     "metadata": {},
     "output_type": "execute_result"
    },
    {
     "data": {
      "image/png": "[encoded data removed]",
      "text/plain": [
       "<Figure size 640x480 with 1 Axes>"
      ]
     },
     "metadata": {},
     "output_type": "display_data"
    }
   ],
   "source": [
    "df2=df[df['location']=='Russian Federation']\n",
    "df2.plot('ranking','female_ratio',kind=\"scatter\")"
   ]
  },
  {
   "cell_type": "code",
   "execution_count": 63,
   "id": "5b8dda79",
   "metadata": {
    "scrolled": true
   },
   "outputs": [
    {
     "data": {
      "text/plain": [
       "<Axes: xlabel='number_students', ylabel='percent_int_students'>"
      ]
     },
     "execution_count": 63,
     "metadata": {},
     "output_type": "execute_result"
    },
    {
     "data": {
      "image/png": "[encoded data removed]",
      "text/plain": [
       "<Figure size 640x480 with 1 Axes>"
      ]
     },
     "metadata": {},
     "output_type": "display_data"
    }
   ],
   "source": [
    "df2.plot('number_students', 'percent_int_students', kind = 'scatter')"
   ]
  }
 ],
 "metadata": {
  "kernelspec": {
   "display_name": "Python 3 (ipykernel)",
   "language": "python",
   "name": "python3"
  },
  "language_info": {
   "codemirror_mode": {
    "name": "ipython",
    "version": 3
   },
   "file_extension": ".py",
   "mimetype": "text/x-python",
   "name": "python",
   "nbconvert_exporter": "python",
   "pygments_lexer": "ipython3",
   "version": "3.11.4"
  }
 },
 "nbformat": 4,
 "nbformat_minor": 5
}
